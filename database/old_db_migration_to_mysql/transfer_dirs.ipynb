{
 "cells": [
  {
   "cell_type": "code",
   "execution_count": null,
   "metadata": {},
   "outputs": [],
   "source": [
    "import mysql.connector\n",
    "import pandas as pd\n",
    "import numpy as np\n",
    "import os\n",
    "import subprocess\n",
    "import time"
   ]
  },
  {
   "cell_type": "code",
   "execution_count": null,
   "metadata": {},
   "outputs": [],
   "source": [
    "new_share_jobs=\"/new_data/users_data\"\n",
    "old_share_jobs=\"/data/fuma\""
   ]
  },
  {
   "cell_type": "code",
   "execution_count": null,
   "metadata": {},
   "outputs": [],
   "source": [
    "mydb = mysql.connector.connect(\n",
    "  host=\"localhost\",\n",
    "  port=\"3306\",\n",
    "  user=\"root\",\n",
    "  password=\"root\",\n",
    "  database=\"fuma_new\",\n",
    ")\n",
    "\n",
    "print(mydb)"
   ]
  },
  {
   "cell_type": "code",
   "execution_count": null,
   "metadata": {},
   "outputs": [],
   "source": [
    "mydb.connect()\n",
    "mycursor = mydb.cursor()\n",
    "mycursor.execute(\"SELECT jobID, old_id, type, is_public, parent_id FROM SubmitJobs\")\n",
    "\n",
    "jobs = []\n",
    "for x in mycursor:\n",
    "  jobs.append(x)\n",
    "\n",
    "jobs_df = pd.DataFrame(jobs, columns =['jobID', 'old_id', 'type', 'is_public', 'parent_id'])\n",
    "jobs_df[\"location\"] = np.nan\n",
    "jobs_df[\"destination\"] = np.nan\n",
    "\n",
    "# jobs_df.drop(jobs_df.query(\"old_id.isna()\").index, inplace=True)\n",
    "# jobs_df"
   ]
  },
  {
   "cell_type": "code",
   "execution_count": null,
   "metadata": {},
   "outputs": [],
   "source": [
    "filtered_indices = jobs_df.query(\"type == 'snp2gene' and is_public == 0\").index\n",
    "jobs_df.loc[filtered_indices, 'location'] = jobs_df.loc[filtered_indices, 'jobID'].apply(lambda x: old_share_jobs + '/jobs/' + str(int(x)))\n",
    "jobs_df.loc[filtered_indices, 'destination'] = jobs_df.loc[filtered_indices, 'jobID'].apply(lambda x: new_share_jobs + '/jobs/' + str(int(x)))\n",
    "\n",
    "filtered_indices = jobs_df.query(\"type == 'celltype' and is_public == 0\").index\n",
    "jobs_df.loc[filtered_indices, 'location'] = jobs_df.loc[filtered_indices, 'old_id'].apply(lambda x: old_share_jobs + '/celltype/' + str(int(x))) # add int\n",
    "jobs_df.loc[filtered_indices, 'destination'] = jobs_df.loc[filtered_indices, 'jobID'].apply(lambda x: new_share_jobs + '/celltype/' + str(int(x)))\n",
    "\n",
    "filtered_indices = jobs_df.query(\"is_public == 1\").index\n",
    "jobs_df.loc[filtered_indices, 'location'] = jobs_df.loc[filtered_indices, 'old_id'].apply(lambda x: old_share_jobs + '/public/' + str(int(x))) # add int\n",
    "jobs_df.loc[filtered_indices, 'destination'] = jobs_df.loc[filtered_indices, 'jobID'].apply(lambda x: new_share_jobs + '/jobs/' + str(int(x)))\n",
    "\n",
    "# split gene2func into multiple senarios\n",
    "# 1) standalone gene2func jobs (\"type == 'gene2func' and parent_id == NaN\")\n",
    "filtered_indices = jobs_df.query(\"type == 'gene2func' and parent_id.isna()\").index\n",
    "jobs_df.loc[filtered_indices, 'location'] = jobs_df.loc[filtered_indices, 'old_id'].apply(lambda x: old_share_jobs + '/gene2func/' + str(int(x))) # add int\n",
    "jobs_df.loc[filtered_indices, 'destination'] = jobs_df.loc[filtered_indices, 'jobID'].apply(lambda x: new_share_jobs + '/gene2func/' + str(int(x)))\n",
    "\n",
    "\n",
    "# 2) gene2func jobs that are child of snp2gene jobs (\"type == 'gene2func' and parent_id != NaN)\n",
    "# for each one of these jobs, we need to check if the parent snp2gene job is public or not\n",
    "# if not public, then we need to just copy the job to the new share\n",
    "# if public, then we need to copy the job from public to the new share given the parent_id\n",
    "filtered_indices = jobs_df.query(\"type == 'gene2func' and parent_id.notna()\").index\n",
    "\n",
    "for index in filtered_indices:\n",
    "    parent_id = jobs_df.loc[index, 'parent_id']\n",
    "\n",
    "    parent_job = jobs_df.query(\"jobID == @parent_id\")\n",
    "\n",
    "    if parent_job['is_public'].values[0] == 0:\n",
    "        jobs_df.at[index, 'location'] = old_share_jobs + '/gene2func/' + str(int(jobs_df.loc[index, 'old_id'])) \n",
    "        jobs_df.at[index, 'destination'] = new_share_jobs + '/gene2func/' + str(int(jobs_df.loc[index, 'jobID']))\n",
    "        # pass\n",
    "    elif parent_job['is_public'].values[0] == 1:\n",
    "        jobs_df.at[index, 'location'] = old_share_jobs + '/public/' + str(int(parent_job['old_id'].values[0])) + '/g2f' # add int\n",
    "        jobs_df.at[index, 'location_alt'] = old_share_jobs + '/gene2func/' + str(int(jobs_df.loc[index, 'old_id'])) # add int\n",
    "        jobs_df.at[index, 'destination'] = new_share_jobs + '/gene2func/' + str(int(jobs_df.loc[index, 'jobID']))\n",
    "        # print(jobs_df.at[index, 'location'])\n",
    "        # print(jobs_df.loc[index])\n",
    "        # break"
   ]
  },
  {
   "cell_type": "code",
   "execution_count": null,
   "metadata": {},
   "outputs": [],
   "source": [
    "# iterate through the dataframe in for loop one line at a time\n",
    "os.system(\"mkdir \" + new_share_jobs + \"/jobs\")\n",
    "os.system(\"mkdir \" + new_share_jobs + \"/celltype\")\n",
    "os.system(\"mkdir \" + new_share_jobs + \"/gene2func\")\n",
    "\n",
    "time.sleep(2);\n",
    "\n",
    "for index, row in jobs_df.iterrows():\n",
    "    one_location_at_least_exists = False\n",
    "    if os.path.isdir(row['location']):\n",
    "        location = row['location']\n",
    "        jobs_df.at[index, 'copying_status'] = 'location exists,'\n",
    "        one_location_at_least_exists = True\n",
    "    if pd.notna(row['location_alt']) and os.path.isdir(row['location_alt']):\n",
    "        location = row['location_alt']\n",
    "        jobs_df.at[index, 'copying_status'] = str(jobs_df.at[index, 'copying_status']) + 'alt location exists'\n",
    "        one_location_at_least_exists = True\n",
    "    if one_location_at_least_exists:\n",
    "        # os.system(\"rsync -rtlHv \" + location + \" \" + row['destination'])\n",
    "\n",
    "        result = subprocess.run(\"rsync -rtlHv \" + location + \" \" + row['destination'],\n",
    "                    shell=True, capture_output=True,\n",
    "                    check=True, text=True)\n",
    "        \n",
    "        jobs_df.at[index, 'stdout'] = result.stdout\n",
    "        jobs_df.at[index, 'stderr'] = result.stderr\n",
    "    else:\n",
    "        jobs_df.at[index, 'copying_status'] = 'neither location exists'\n",
    "\n",
    "    "
   ]
  },
  {
   "cell_type": "code",
   "execution_count": null,
   "metadata": {},
   "outputs": [],
   "source": [
    "jobs_df.to_csv(\"result/orthogonal_jobs_table.csv\",index = False)"
   ]
  }
 ],
 "metadata": {
  "kernelspec": {
   "display_name": "Python [conda env:sqlite3-to-mysql]",
   "language": "python",
   "name": "conda-env-sqlite3-to-mysql-py"
  },
  "language_info": {
   "codemirror_mode": {
    "name": "ipython",
    "version": 3
   },
   "file_extension": ".py",
   "mimetype": "text/x-python",
   "name": "python",
   "nbconvert_exporter": "python",
   "pygments_lexer": "ipython3",
   "version": "3.10.9"
  }
 },
 "nbformat": 4,
 "nbformat_minor": 2
}
